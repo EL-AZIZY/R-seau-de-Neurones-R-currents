{
 "cells": [
  {
   "cell_type": "code",
   "execution_count": 1,
   "metadata": {
    "deletable": false,
    "editable": false,
    "executionInfo": {
     "elapsed": 2760,
     "status": "ok",
     "timestamp": 1699377478387,
     "user": {
      "displayName": "Azizi Zouhair",
      "userId": "00769205531033281629"
     },
     "user_tz": -60
    },
    "id": "BOwsuGQQY9OL",
    "tags": [
     "graded"
    ]
   },
   "outputs": [],
   "source": [
    "# grader-required-cell\n",
    "\n",
    "import numpy as np\n",
    "import matplotlib.pyplot as plt\n",
    "from tensorflow.keras.models import Sequential\n",
    "from tensorflow.keras.utils import to_categorical\n",
    "from tensorflow.keras.preprocessing.text import Tokenizer\n",
    "from tensorflow.keras.preprocessing.sequence import pad_sequences\n",
    "from tensorflow.keras.layers import Embedding, LSTM, Dense, Bidirectional"
   ]
  },
  {
   "cell_type": "code",
   "execution_count": 2,
   "metadata": {
    "colab": {
     "base_uri": "https://localhost:8080/"
    },
    "deletable": false,
    "editable": false,
    "executionInfo": {
     "elapsed": 1678,
     "status": "ok",
     "timestamp": 1699377480059,
     "user": {
      "displayName": "Azizi Zouhair",
      "userId": "00769205531033281629"
     },
     "user_tz": -60
    },
    "id": "WZ4qOUzujMP6",
    "outputId": "aca48241-e532-4f4d-9504-c991b35dac38",
    "tags": [
     "graded"
    ]
   },
   "outputs": [
    {
     "name": "stderr",
     "output_type": "stream",
     "text": [
      "'gdown' is not recognized as an internal or external command,\n",
      "operable program or batch file.\n"
     ]
    }
   ],
   "source": [
    "# grader-required-cell\n",
    "\n",
    "# sonnets.txt\n",
    "!gdown --id 108jAePKK4R3BVYBbYJZ32JWUwxeMg20K"
   ]
  },
  {
   "cell_type": "code",
   "execution_count": 3,
   "metadata": {
    "colab": {
     "base_uri": "https://localhost:8080/"
    },
    "deletable": false,
    "editable": false,
    "executionInfo": {
     "elapsed": 18,
     "status": "ok",
     "timestamp": 1699377480059,
     "user": {
      "displayName": "Azizi Zouhair",
      "userId": "00769205531033281629"
     },
     "user_tz": -60
    },
    "id": "Pfd-nYKij5yY",
    "outputId": "80d79d37-48c7-425a-c2ee-772c60a42544",
    "tags": [
     "graded"
    ]
   },
   "outputs": [
    {
     "name": "stdout",
     "output_type": "stream",
     "text": [
      "There are 2159 lines of sonnets\n",
      "\n",
      "The first 5 lines look like this:\n",
      "\n",
      "from fairest creatures we desire increase,\n",
      "that thereby beauty's rose might never die,\n",
      "but as the riper should by time decease,\n",
      "his tender heir might bear his memory:\n",
      "but thou, contracted to thine own bright eyes,\n"
     ]
    }
   ],
   "source": [
    "# grader-required-cell\n",
    "\n",
    "# Define path for file with sonnets\n",
    "SONNETS_FILE = './sonnets.txt'\n",
    "\n",
    "# Read the data\n",
    "with open('./sonnets.txt') as f:\n",
    "    data = f.read()\n",
    "\n",
    "# Convert to lower case and save as a list\n",
    "corpus = data.lower().split(\"\\n\")\n",
    "\n",
    "print(f\"There are {len(corpus)} lines of sonnets\\n\")\n",
    "print(f\"The first 5 lines look like this:\\n\")\n",
    "for i in range(5):\n",
    "  print(corpus[i])"
   ]
  },
  {
   "cell_type": "markdown",
   "metadata": {
    "id": "imB15zrSNhA1"
   },
   "source": [
    "## Tokenizing the text\n"
   ]
  },
  {
   "cell_type": "code",
   "execution_count": 4,
   "metadata": {
    "deletable": false,
    "editable": false,
    "executionInfo": {
     "elapsed": 17,
     "status": "ok",
     "timestamp": 1699377480060,
     "user": {
      "displayName": "Azizi Zouhair",
      "userId": "00769205531033281629"
     },
     "user_tz": -60
    },
    "id": "AAhM_qAZk0o5",
    "tags": [
     "graded"
    ]
   },
   "outputs": [],
   "source": [
    "# grader-required-cell\n",
    "\n",
    "tokenizer = Tokenizer()\n",
    "tokenizer.fit_on_texts(corpus)\n",
    "total_words = len(tokenizer.word_index) + 1"
   ]
  },
  {
   "cell_type": "code",
   "execution_count": 5,
   "metadata": {
    "colab": {
     "base_uri": "https://localhost:8080/",
     "height": 35
    },
    "deletable": false,
    "editable": false,
    "executionInfo": {
     "elapsed": 16,
     "status": "ok",
     "timestamp": 1699377480060,
     "user": {
      "displayName": "Azizi Zouhair",
      "userId": "00769205531033281629"
     },
     "user_tz": -60
    },
    "id": "tqhPxdeXlfjh",
    "outputId": "5eff3a5f-ba8e-43a4-d76a-041505109ef7",
    "tags": [
     "graded"
    ]
   },
   "outputs": [
    {
     "data": {
      "text/plain": [
       "'from fairest creatures we desire increase,'"
      ]
     },
     "execution_count": 5,
     "metadata": {},
     "output_type": "execute_result"
    }
   ],
   "source": [
    "# grader-required-cell\n",
    "\n",
    "corpus[0]"
   ]
  },
  {
   "cell_type": "code",
   "execution_count": 6,
   "metadata": {
    "colab": {
     "base_uri": "https://localhost:8080/"
    },
    "deletable": false,
    "editable": false,
    "executionInfo": {
     "elapsed": 15,
     "status": "ok",
     "timestamp": 1699377480060,
     "user": {
      "displayName": "Azizi Zouhair",
      "userId": "00769205531033281629"
     },
     "user_tz": -60
    },
    "id": "EMSEhmbzNZCE",
    "outputId": "c9a48895-5b88-47a1-8ffe-6b2d8b7f68fc",
    "tags": [
     "graded"
    ]
   },
   "outputs": [
    {
     "data": {
      "text/plain": [
       "[[],\n",
       " [],\n",
       " [58],\n",
       " [],\n",
       " [],\n",
       " [],\n",
       " [17],\n",
       " [6],\n",
       " [],\n",
       " [],\n",
       " [],\n",
       " [],\n",
       " [],\n",
       " [],\n",
       " [],\n",
       " [],\n",
       " [17],\n",
       " [],\n",
       " [],\n",
       " [],\n",
       " [],\n",
       " [],\n",
       " [],\n",
       " [],\n",
       " [],\n",
       " [],\n",
       " [],\n",
       " [],\n",
       " [],\n",
       " [6],\n",
       " [],\n",
       " [],\n",
       " [],\n",
       " [6],\n",
       " [],\n",
       " [],\n",
       " [],\n",
       " [],\n",
       " [17],\n",
       " [],\n",
       " [],\n",
       " []]"
      ]
     },
     "execution_count": 6,
     "metadata": {},
     "output_type": "execute_result"
    }
   ],
   "source": [
    "# grader-required-cell\n",
    "\n",
    "tokenizer.texts_to_sequences(corpus[0])"
   ]
  },
  {
   "cell_type": "code",
   "execution_count": 7,
   "metadata": {
    "colab": {
     "base_uri": "https://localhost:8080/"
    },
    "deletable": false,
    "editable": false,
    "executionInfo": {
     "elapsed": 13,
     "status": "ok",
     "timestamp": 1699377480060,
     "user": {
      "displayName": "Azizi Zouhair",
      "userId": "00769205531033281629"
     },
     "user_tz": -60
    },
    "id": "Qmgo-vXhk4nd",
    "outputId": "8927dbfc-0e24-4dbb-e5a7-38298e61e529",
    "tags": [
     "graded"
    ]
   },
   "outputs": [
    {
     "data": {
      "text/plain": [
       "[[34, 417, 877, 166, 213, 517]]"
      ]
     },
     "execution_count": 7,
     "metadata": {},
     "output_type": "execute_result"
    }
   ],
   "source": [
    "# grader-required-cell\n",
    "\n",
    "tokenizer.texts_to_sequences([corpus[0]])"
   ]
  },
  {
   "cell_type": "code",
   "execution_count": 8,
   "metadata": {
    "colab": {
     "base_uri": "https://localhost:8080/"
    },
    "deletable": false,
    "editable": false,
    "executionInfo": {
     "elapsed": 12,
     "status": "ok",
     "timestamp": 1699377480060,
     "user": {
      "displayName": "Azizi Zouhair",
      "userId": "00769205531033281629"
     },
     "user_tz": -60
    },
    "id": "kpTy8WmIQ57P",
    "outputId": "8fd67376-8a40-4ae3-f281-99476703305e",
    "tags": [
     "graded"
    ]
   },
   "outputs": [
    {
     "data": {
      "text/plain": [
       "[34, 417, 877, 166, 213, 517]"
      ]
     },
     "execution_count": 8,
     "metadata": {},
     "output_type": "execute_result"
    }
   ],
   "source": [
    "# grader-required-cell\n",
    "\n",
    "tokenizer.texts_to_sequences([corpus[0]])[0]"
   ]
  },
  {
   "cell_type": "markdown",
   "metadata": {
    "id": "-oqy9KjXRJ9A"
   },
   "source": [
    "## Generating n_grams\n",
    "\n"
   ]
  },
  {
   "cell_type": "code",
   "execution_count": 9,
   "metadata": {
    "deletable": false,
    "executionInfo": {
     "elapsed": 12,
     "status": "ok",
     "timestamp": 1699377480061,
     "user": {
      "displayName": "Azizi Zouhair",
      "userId": "00769205531033281629"
     },
     "user_tz": -60
    },
    "id": "iy4baJMDl6kj",
    "tags": [
     "graded"
    ]
   },
   "outputs": [],
   "source": [
    "# grader-required-cell\n",
    "\n",
    "# GRADED FUNCTION: n_gram_seqs\n",
    "def n_gram_seqs(corpus, tokenizer):\n",
    "    \"\"\"\n",
    "    Generates a list of n-gram sequences\n",
    "    \"\"\"\n",
    "    input_sequences = []\n",
    "\n",
    "\n",
    "    for line in corpus:\n",
    "\n",
    "      token_list = tokenizer.texts_to_sequences([line])[0]\n",
    "\n",
    "      for i in range(1,len(token_list)):\n",
    "        n_gram_sequence = token_list[:i+1]\n",
    "        input_sequences.append(n_gram_sequence)\n",
    "\n",
    "\n",
    "\n",
    "    return input_sequences"
   ]
  },
  {
   "cell_type": "code",
   "execution_count": 10,
   "metadata": {
    "colab": {
     "base_uri": "https://localhost:8080/"
    },
    "deletable": false,
    "editable": false,
    "executionInfo": {
     "elapsed": 11,
     "status": "ok",
     "timestamp": 1699377480061,
     "user": {
      "displayName": "Azizi Zouhair",
      "userId": "00769205531033281629"
     },
     "user_tz": -60
    },
    "id": "DlKqW2pfM7G3",
    "outputId": "b72a773b-a4ba-483d-f124-fd1603b01cd1",
    "tags": [
     "graded"
    ]
   },
   "outputs": [
    {
     "name": "stdout",
     "output_type": "stream",
     "text": [
      "n_gram sequences for first example look like this:\n",
      "\n"
     ]
    },
    {
     "data": {
      "text/plain": [
       "[[34, 417],\n",
       " [34, 417, 877],\n",
       " [34, 417, 877, 166],\n",
       " [34, 417, 877, 166, 213],\n",
       " [34, 417, 877, 166, 213, 517]]"
      ]
     },
     "execution_count": 10,
     "metadata": {},
     "output_type": "execute_result"
    }
   ],
   "source": [
    "# grader-required-cell\n",
    "\n",
    "# Test the function with one example\n",
    "first_example_sequence = n_gram_seqs([corpus[0]], tokenizer)\n",
    "\n",
    "print(\"n_gram sequences for first example look like this:\\n\")\n",
    "first_example_sequence"
   ]
  },
  {
   "cell_type": "code",
   "execution_count": 11,
   "metadata": {
    "colab": {
     "base_uri": "https://localhost:8080/"
    },
    "deletable": false,
    "editable": false,
    "executionInfo": {
     "elapsed": 546,
     "status": "ok",
     "timestamp": 1699377480597,
     "user": {
      "displayName": "Azizi Zouhair",
      "userId": "00769205531033281629"
     },
     "user_tz": -60
    },
    "id": "wtPpCcBjNc4c",
    "outputId": "f179df36-a9be-4ec8-88b2-d2b9b210cdbd",
    "tags": [
     "graded"
    ]
   },
   "outputs": [
    {
     "name": "stdout",
     "output_type": "stream",
     "text": [
      "n_gram sequences for next 3 examples look like this:\n",
      "\n"
     ]
    },
    {
     "data": {
      "text/plain": [
       "[[8, 878],\n",
       " [8, 878, 134],\n",
       " [8, 878, 134, 351],\n",
       " [8, 878, 134, 351, 102],\n",
       " [8, 878, 134, 351, 102, 156],\n",
       " [8, 878, 134, 351, 102, 156, 199],\n",
       " [16, 22],\n",
       " [16, 22, 2],\n",
       " [16, 22, 2, 879],\n",
       " [16, 22, 2, 879, 61],\n",
       " [16, 22, 2, 879, 61, 30],\n",
       " [16, 22, 2, 879, 61, 30, 48],\n",
       " [16, 22, 2, 879, 61, 30, 48, 634],\n",
       " [25, 311],\n",
       " [25, 311, 635],\n",
       " [25, 311, 635, 102],\n",
       " [25, 311, 635, 102, 200],\n",
       " [25, 311, 635, 102, 200, 25],\n",
       " [25, 311, 635, 102, 200, 25, 278]]"
      ]
     },
     "execution_count": 11,
     "metadata": {},
     "output_type": "execute_result"
    }
   ],
   "source": [
    "# grader-required-cell\n",
    "\n",
    "# Test the function with a bigger corpus\n",
    "next_3_examples_sequence = n_gram_seqs(corpus[1:4], tokenizer)\n",
    "\n",
    "print(\"n_gram sequences for next 3 examples look like this:\\n\")\n",
    "next_3_examples_sequence"
   ]
  },
  {
   "cell_type": "code",
   "execution_count": 12,
   "metadata": {
    "colab": {
     "base_uri": "https://localhost:8080/"
    },
    "deletable": false,
    "editable": false,
    "executionInfo": {
     "elapsed": 10,
     "status": "ok",
     "timestamp": 1699377480597,
     "user": {
      "displayName": "Azizi Zouhair",
      "userId": "00769205531033281629"
     },
     "user_tz": -60
    },
    "id": "laMwiRUpmuSd",
    "outputId": "ee739589-ffb4-486e-874f-8bb5ffc46469",
    "tags": [
     "graded"
    ]
   },
   "outputs": [
    {
     "name": "stdout",
     "output_type": "stream",
     "text": [
      "n_grams of input_sequences have length: 15462\n",
      "maximum length of sequences is: 11\n"
     ]
    }
   ],
   "source": [
    "# grader-required-cell\n",
    "\n",
    "# Apply the n_gram_seqs transformation to the whole corpus\n",
    "input_sequences = n_gram_seqs(corpus, tokenizer)\n",
    "\n",
    "# Save max length\n",
    "max_sequence_len = max([len(x) for x in input_sequences])\n",
    "\n",
    "print(f\"n_grams of input_sequences have length: {len(input_sequences)}\")\n",
    "print(f\"maximum length of sequences is: {max_sequence_len}\")"
   ]
  },
  {
   "cell_type": "markdown",
   "metadata": {
    "id": "zHY7HroqWq12"
   },
   "source": [
    "## Add padding to the sequences\n",
    "\n"
   ]
  },
  {
   "cell_type": "code",
   "execution_count": 13,
   "metadata": {
    "cellView": "code",
    "deletable": false,
    "executionInfo": {
     "elapsed": 10,
     "status": "ok",
     "timestamp": 1699377480598,
     "user": {
      "displayName": "Azizi Zouhair",
      "userId": "00769205531033281629"
     },
     "user_tz": -60
    },
    "id": "WW1-qAZaWOhC",
    "tags": [
     "graded"
    ]
   },
   "outputs": [],
   "source": [
    "# grader-required-cell\n",
    "\n",
    "# GRADED FUNCTION: pad_seqs\n",
    "def pad_seqs(input_sequences, maxlen):\n",
    "    \"\"\"\n",
    "    Pads tokenized sequences to the same length\n",
    "    \"\"\"\n",
    "    padded_sequences = pad_sequences(input_sequences, maxlen= maxlen)\n",
    "    return padded_sequences\n"
   ]
  },
  {
   "cell_type": "code",
   "execution_count": 14,
   "metadata": {
    "colab": {
     "base_uri": "https://localhost:8080/"
    },
    "deletable": false,
    "editable": false,
    "executionInfo": {
     "elapsed": 10,
     "status": "ok",
     "timestamp": 1699377480598,
     "user": {
      "displayName": "Azizi Zouhair",
      "userId": "00769205531033281629"
     },
     "user_tz": -60
    },
    "id": "IqVQ0pb3YHLr",
    "outputId": "a8eeaf1c-ac66-42fd-8078-df506c09ebb0",
    "tags": [
     "graded"
    ]
   },
   "outputs": [
    {
     "data": {
      "text/plain": [
       "array([[  0,   0,   0,   0,  34, 417],\n",
       "       [  0,   0,   0,  34, 417, 877],\n",
       "       [  0,   0,  34, 417, 877, 166],\n",
       "       [  0,  34, 417, 877, 166, 213],\n",
       "       [ 34, 417, 877, 166, 213, 517]])"
      ]
     },
     "execution_count": 14,
     "metadata": {},
     "output_type": "execute_result"
    }
   ],
   "source": [
    "# grader-required-cell\n",
    "\n",
    "# Test the function with the n_grams_seq of the first example\n",
    "first_padded_seq = pad_seqs(first_example_sequence, max([len(x) for x in first_example_sequence]))\n",
    "first_padded_seq"
   ]
  },
  {
   "cell_type": "code",
   "execution_count": 15,
   "metadata": {
    "colab": {
     "base_uri": "https://localhost:8080/"
    },
    "deletable": false,
    "editable": false,
    "executionInfo": {
     "elapsed": 8,
     "status": "ok",
     "timestamp": 1699377480598,
     "user": {
      "displayName": "Azizi Zouhair",
      "userId": "00769205531033281629"
     },
     "user_tz": -60
    },
    "id": "j56_UCOBYzZt",
    "outputId": "7773f4a1-f892-47b4-a91b-03aa73c23078",
    "tags": [
     "graded"
    ]
   },
   "outputs": [
    {
     "data": {
      "text/plain": [
       "array([[  0,   0,   0,   0,   0,   0,   8, 878],\n",
       "       [  0,   0,   0,   0,   0,   8, 878, 134],\n",
       "       [  0,   0,   0,   0,   8, 878, 134, 351],\n",
       "       [  0,   0,   0,   8, 878, 134, 351, 102],\n",
       "       [  0,   0,   8, 878, 134, 351, 102, 156],\n",
       "       [  0,   8, 878, 134, 351, 102, 156, 199],\n",
       "       [  0,   0,   0,   0,   0,   0,  16,  22],\n",
       "       [  0,   0,   0,   0,   0,  16,  22,   2],\n",
       "       [  0,   0,   0,   0,  16,  22,   2, 879],\n",
       "       [  0,   0,   0,  16,  22,   2, 879,  61],\n",
       "       [  0,   0,  16,  22,   2, 879,  61,  30],\n",
       "       [  0,  16,  22,   2, 879,  61,  30,  48],\n",
       "       [ 16,  22,   2, 879,  61,  30,  48, 634],\n",
       "       [  0,   0,   0,   0,   0,   0,  25, 311],\n",
       "       [  0,   0,   0,   0,   0,  25, 311, 635],\n",
       "       [  0,   0,   0,   0,  25, 311, 635, 102],\n",
       "       [  0,   0,   0,  25, 311, 635, 102, 200],\n",
       "       [  0,   0,  25, 311, 635, 102, 200,  25],\n",
       "       [  0,  25, 311, 635, 102, 200,  25, 278]])"
      ]
     },
     "execution_count": 15,
     "metadata": {},
     "output_type": "execute_result"
    }
   ],
   "source": [
    "# grader-required-cell\n",
    "\n",
    "# Test the function with the n_grams_seq of the next 3 examples\n",
    "next_3_padded_seq = pad_seqs(next_3_examples_sequence, max([len(s) for s in next_3_examples_sequence]))\n",
    "next_3_padded_seq"
   ]
  },
  {
   "cell_type": "code",
   "execution_count": 16,
   "metadata": {
    "colab": {
     "base_uri": "https://localhost:8080/"
    },
    "deletable": false,
    "editable": false,
    "executionInfo": {
     "elapsed": 7,
     "status": "ok",
     "timestamp": 1699377480598,
     "user": {
      "displayName": "Azizi Zouhair",
      "userId": "00769205531033281629"
     },
     "user_tz": -60
    },
    "id": "rgK-Q_micEYA",
    "outputId": "7e5a0976-2c16-49c7-8d2b-c9999db0c5f6",
    "tags": [
     "graded"
    ]
   },
   "outputs": [
    {
     "name": "stdout",
     "output_type": "stream",
     "text": [
      "padded corpus has shape: (15462, 11)\n"
     ]
    }
   ],
   "source": [
    "# grader-required-cell\n",
    "\n",
    "# Pad the whole corpus\n",
    "input_sequences = pad_seqs(input_sequences, max_sequence_len)\n",
    "\n",
    "print(f\"padded corpus has shape: {input_sequences.shape}\")"
   ]
  },
  {
   "cell_type": "markdown",
   "metadata": {
    "id": "ZbOidyPrXxf7"
   },
   "source": [
    "## Split the data into features and labels"
   ]
  },
  {
   "cell_type": "code",
   "execution_count": 17,
   "metadata": {
    "cellView": "code",
    "deletable": false,
    "executionInfo": {
     "elapsed": 6,
     "status": "ok",
     "timestamp": 1699377480598,
     "user": {
      "displayName": "Azizi Zouhair",
      "userId": "00769205531033281629"
     },
     "user_tz": -60
    },
    "id": "9WGGbYdnZdmJ",
    "tags": [
     "graded"
    ]
   },
   "outputs": [],
   "source": [
    "# grader-required-cell\n",
    "\n",
    "# GRADED FUNCTION: features_and_labels\n",
    "def features_and_labels(input_sequences, total_words):\n",
    "    \"\"\"\n",
    "    Generates features and labels from n-grams\n",
    "    \"\"\"\n",
    "    ### START CODE HERE\n",
    "    features = input_sequences[:,:-1]\n",
    "    labels = input_sequences[:,-1]\n",
    "    one_hot_labels = to_categorical(labels,num_classes=total_words)\n",
    "    ### END CODE HERE\n",
    "\n",
    "    return features, one_hot_labels"
   ]
  },
  {
   "cell_type": "code",
   "execution_count": 18,
   "metadata": {
    "colab": {
     "base_uri": "https://localhost:8080/"
    },
    "deletable": false,
    "editable": false,
    "executionInfo": {
     "elapsed": 6,
     "status": "ok",
     "timestamp": 1699377480598,
     "user": {
      "displayName": "Azizi Zouhair",
      "userId": "00769205531033281629"
     },
     "user_tz": -60
    },
    "id": "23DolaBRaIAZ",
    "outputId": "fd1b16cf-e246-4cbd-86ce-3445e7d27d4d",
    "tags": [
     "graded"
    ]
   },
   "outputs": [
    {
     "name": "stdout",
     "output_type": "stream",
     "text": [
      "labels have shape: (5, 3211)\n",
      "\n",
      "features look like this:\n",
      "\n"
     ]
    },
    {
     "data": {
      "text/plain": [
       "array([[  0,   0,   0,   0,  34],\n",
       "       [  0,   0,   0,  34, 417],\n",
       "       [  0,   0,  34, 417, 877],\n",
       "       [  0,  34, 417, 877, 166],\n",
       "       [ 34, 417, 877, 166, 213]])"
      ]
     },
     "execution_count": 18,
     "metadata": {},
     "output_type": "execute_result"
    }
   ],
   "source": [
    "# grader-required-cell\n",
    "\n",
    "# Test your function with the padded n_grams_seq of the first example\n",
    "first_features, first_labels = features_and_labels(first_padded_seq, total_words)\n",
    "\n",
    "print(f\"labels have shape: {first_labels.shape}\")\n",
    "print(\"\\nfeatures look like this:\\n\")\n",
    "first_features"
   ]
  },
  {
   "cell_type": "code",
   "execution_count": 19,
   "metadata": {
    "colab": {
     "base_uri": "https://localhost:8080/"
    },
    "deletable": false,
    "editable": false,
    "executionInfo": {
     "elapsed": 5,
     "status": "ok",
     "timestamp": 1699377480598,
     "user": {
      "displayName": "Azizi Zouhair",
      "userId": "00769205531033281629"
     },
     "user_tz": -60
    },
    "id": "GRTuLEt3bRKa",
    "outputId": "6e202d7a-c26f-4b9a-b0b8-9465881f026c",
    "tags": [
     "graded"
    ]
   },
   "outputs": [
    {
     "name": "stdout",
     "output_type": "stream",
     "text": [
      "features have shape: (15462, 10)\n",
      "labels have shape: (15462, 3211)\n"
     ]
    }
   ],
   "source": [
    "# grader-required-cell\n",
    "\n",
    "# Split the whole corpus\n",
    "features, labels = features_and_labels(input_sequences, total_words)\n",
    "\n",
    "print(f\"features have shape: {features.shape}\")\n",
    "print(f\"labels have shape: {labels.shape}\")"
   ]
  },
  {
   "cell_type": "markdown",
   "metadata": {
    "id": "ltxaOCE_aU6J"
   },
   "source": [
    "## Create the model\n"
   ]
  },
  {
   "cell_type": "code",
   "execution_count": 20,
   "metadata": {
    "cellView": "code",
    "deletable": false,
    "executionInfo": {
     "elapsed": 4,
     "status": "ok",
     "timestamp": 1699377480598,
     "user": {
      "displayName": "Azizi Zouhair",
      "userId": "00769205531033281629"
     },
     "user_tz": -60
    },
    "id": "XrE6kpJFfvRY",
    "tags": [
     "graded"
    ]
   },
   "outputs": [],
   "source": [
    "# grader-required-cell\n",
    "\n",
    "# GRADED FUNCTION: create_model\n",
    "def create_model(total_words, max_sequence_len):\n",
    "    \"\"\"\n",
    "    Creates a text generator model\n",
    "    \"\"\"\n",
    "    model = Sequential()\n",
    "    model.add(Embedding(total_words, 100, input_length=max_sequence_len))\n",
    "    model.add(Bidirectional(LSTM(128)))\n",
    "    model.add(Dense(total_words,activation='softmax'))\n",
    "\n",
    "    # Compile the model\n",
    "    model.compile(loss=\"categorical_crossentropy\",\n",
    "                  optimizer=\"Adam\",\n",
    "                  metrics=['accuracy'])\n",
    "\n",
    "\n",
    "    return model"
   ]
  },
  {
   "cell_type": "code",
   "execution_count": 21,
   "metadata": {
    "colab": {
     "base_uri": "https://localhost:8080/"
    },
    "executionInfo": {
     "elapsed": 276177,
     "status": "ok",
     "timestamp": 1699377756771,
     "user": {
      "displayName": "Azizi Zouhair",
      "userId": "00769205531033281629"
     },
     "user_tz": -60
    },
    "id": "0IpX_Gu_gISk",
    "outputId": "d83d1b1f-13a9-43c9-ff06-5a24d20a2530",
    "tags": []
   },
   "outputs": [
    {
     "name": "stdout",
     "output_type": "stream",
     "text": [
      "Epoch 1/50\n",
      "484/484 [==============================] - 71s 121ms/step - loss: 6.8982 - accuracy: 0.0223\n",
      "Epoch 2/50\n",
      "484/484 [==============================] - 57s 118ms/step - loss: 6.4855 - accuracy: 0.0278\n",
      "Epoch 3/50\n",
      "484/484 [==============================] - 84s 173ms/step - loss: 6.2925 - accuracy: 0.0371\n",
      "Epoch 4/50\n",
      "484/484 [==============================] - 92s 191ms/step - loss: 6.0960 - accuracy: 0.0423\n",
      "Epoch 5/50\n",
      "484/484 [==============================] - 102s 210ms/step - loss: 5.8655 - accuracy: 0.0501\n",
      "Epoch 6/50\n",
      "484/484 [==============================] - 91s 188ms/step - loss: 5.5722 - accuracy: 0.0628\n",
      "Epoch 7/50\n",
      "484/484 [==============================] - 75s 154ms/step - loss: 5.2314 - accuracy: 0.0779\n",
      "Epoch 8/50\n",
      "484/484 [==============================] - 67s 138ms/step - loss: 4.8613 - accuracy: 0.0967\n",
      "Epoch 9/50\n",
      "484/484 [==============================] - 133s 274ms/step - loss: 4.4744 - accuracy: 0.1323\n",
      "Epoch 10/50\n",
      "484/484 [==============================] - 85s 176ms/step - loss: 4.0777 - accuracy: 0.1832\n",
      "Epoch 11/50\n",
      "484/484 [==============================] - 112s 231ms/step - loss: 3.6868 - accuracy: 0.2469\n",
      "Epoch 12/50\n",
      "484/484 [==============================] - 102s 210ms/step - loss: 3.3108 - accuracy: 0.3133\n",
      "Epoch 13/50\n",
      "484/484 [==============================] - 82s 168ms/step - loss: 2.9746 - accuracy: 0.3738\n",
      "Epoch 14/50\n",
      "484/484 [==============================] - 84s 173ms/step - loss: 2.6704 - accuracy: 0.4345\n",
      "Epoch 15/50\n",
      "484/484 [==============================] - 70s 144ms/step - loss: 2.4140 - accuracy: 0.4871\n",
      "Epoch 16/50\n",
      "484/484 [==============================] - 72s 148ms/step - loss: 2.1812 - accuracy: 0.5394\n",
      "Epoch 17/50\n",
      "484/484 [==============================] - 58s 119ms/step - loss: 1.9634 - accuracy: 0.5831\n",
      "Epoch 18/50\n",
      "484/484 [==============================] - 132s 274ms/step - loss: 1.7796 - accuracy: 0.6196\n",
      "Epoch 19/50\n",
      "484/484 [==============================] - 82s 169ms/step - loss: 1.6155 - accuracy: 0.6605\n",
      "Epoch 20/50\n",
      "484/484 [==============================] - 84s 173ms/step - loss: 1.4676 - accuracy: 0.6914\n",
      "Epoch 21/50\n",
      "484/484 [==============================] - 60s 124ms/step - loss: 1.3406 - accuracy: 0.7216\n",
      "Epoch 22/50\n",
      "484/484 [==============================] - 11s 23ms/step - loss: 1.2257 - accuracy: 0.7454\n",
      "Epoch 23/50\n",
      "484/484 [==============================] - 15s 32ms/step - loss: 1.1250 - accuracy: 0.7656\n",
      "Epoch 24/50\n",
      "484/484 [==============================] - 14s 29ms/step - loss: 1.0395 - accuracy: 0.7842\n",
      "Epoch 25/50\n",
      "484/484 [==============================] - 14s 28ms/step - loss: 0.9622 - accuracy: 0.8018\n",
      "Epoch 26/50\n",
      "484/484 [==============================] - 13s 26ms/step - loss: 0.9037 - accuracy: 0.8121\n",
      "Epoch 27/50\n",
      "484/484 [==============================] - 14s 29ms/step - loss: 0.8512 - accuracy: 0.8199\n",
      "Epoch 28/50\n",
      "484/484 [==============================] - 13s 27ms/step - loss: 0.8027 - accuracy: 0.8281\n",
      "Epoch 29/50\n",
      "484/484 [==============================] - 13s 27ms/step - loss: 0.7637 - accuracy: 0.8342\n",
      "Epoch 30/50\n",
      "484/484 [==============================] - 14s 30ms/step - loss: 0.7369 - accuracy: 0.8367\n",
      "Epoch 31/50\n",
      "484/484 [==============================] - 13s 28ms/step - loss: 0.7140 - accuracy: 0.8396\n",
      "Epoch 32/50\n",
      "484/484 [==============================] - 13s 27ms/step - loss: 0.6905 - accuracy: 0.8443\n",
      "Epoch 33/50\n",
      "484/484 [==============================] - 13s 26ms/step - loss: 0.6736 - accuracy: 0.8437\n",
      "Epoch 34/50\n",
      "484/484 [==============================] - 12s 26ms/step - loss: 0.6612 - accuracy: 0.8442\n",
      "Epoch 35/50\n",
      "484/484 [==============================] - 16s 33ms/step - loss: 0.6509 - accuracy: 0.8448\n",
      "Epoch 36/50\n",
      "484/484 [==============================] - 14s 29ms/step - loss: 0.6400 - accuracy: 0.8463\n",
      "Epoch 37/50\n",
      "484/484 [==============================] - 15s 31ms/step - loss: 0.6287 - accuracy: 0.8472\n",
      "Epoch 38/50\n",
      "484/484 [==============================] - 14s 28ms/step - loss: 0.6207 - accuracy: 0.8479\n",
      "Epoch 39/50\n",
      "484/484 [==============================] - 13s 26ms/step - loss: 0.6157 - accuracy: 0.8478\n",
      "Epoch 40/50\n",
      "484/484 [==============================] - 14s 30ms/step - loss: 0.6066 - accuracy: 0.8483\n",
      "Epoch 41/50\n",
      "484/484 [==============================] - 15s 32ms/step - loss: 0.6021 - accuracy: 0.8487\n",
      "Epoch 42/50\n",
      "484/484 [==============================] - 14s 29ms/step - loss: 0.6016 - accuracy: 0.8481\n",
      "Epoch 43/50\n",
      "484/484 [==============================] - 15s 30ms/step - loss: 0.5944 - accuracy: 0.8485\n",
      "Epoch 44/50\n",
      "484/484 [==============================] - 13s 27ms/step - loss: 0.5974 - accuracy: 0.8470\n",
      "Epoch 45/50\n",
      "484/484 [==============================] - 13s 27ms/step - loss: 0.5939 - accuracy: 0.8487\n",
      "Epoch 46/50\n",
      "484/484 [==============================] - 15s 32ms/step - loss: 0.5849 - accuracy: 0.8472\n",
      "Epoch 47/50\n",
      "484/484 [==============================] - 16s 33ms/step - loss: 0.5762 - accuracy: 0.8481\n",
      "Epoch 48/50\n",
      "484/484 [==============================] - 15s 31ms/step - loss: 0.5802 - accuracy: 0.8483\n",
      "Epoch 49/50\n",
      "484/484 [==============================] - 15s 30ms/step - loss: 0.5749 - accuracy: 0.8485\n",
      "Epoch 50/50\n",
      "484/484 [==============================] - 15s 30ms/step - loss: 0.5707 - accuracy: 0.8478\n"
     ]
    }
   ],
   "source": [
    "# Get the untrained model\n",
    "model = create_model(total_words, max_sequence_len)\n",
    "padded_features = pad_sequences(features, maxlen=max_sequence_len, padding='post')\n",
    "\n",
    "# Train the model\n",
    "history = model.fit(padded_features, labels, epochs=50, verbose=1)"
   ]
  },
  {
   "cell_type": "markdown",
   "metadata": {
    "id": "gy72RPgly55q"
   },
   "source": [
    "**To pass this assignment, your model should achieve a training accuracy of at least 80%**. If your model didn't achieve this threshold, try training again with a different model architecture, consider increasing the number of unit in your `LSTM` layer."
   ]
  },
  {
   "cell_type": "code",
   "execution_count": 22,
   "metadata": {
    "colab": {
     "base_uri": "https://localhost:8080/",
     "height": 887
    },
    "executionInfo": {
     "elapsed": 48,
     "status": "ok",
     "timestamp": 1699377756771,
     "user": {
      "displayName": "Azizi Zouhair",
      "userId": "00769205531033281629"
     },
     "user_tz": -60
    },
    "id": "1fXTEO3GJ282",
    "outputId": "159dad7d-e551-407e-e6d8-f999e50ce5db",
    "tags": []
   },
   "outputs": [
    {
     "data": {
      "image/png": "[encoded data removed]",
      "text/plain": [
       "<Figure size 640x480 with 1 Axes>"
      ]
     },
     "metadata": {},
     "output_type": "display_data"
    },
    {
     "data": {
      "image/png": "[encoded data removed]",
      "text/plain": [
       "<Figure size 640x480 with 1 Axes>"
      ]
     },
     "metadata": {},
     "output_type": "display_data"
    }
   ],
   "source": [
    "# Take a look at the training curves of the model\n",
    "\n",
    "acc = history.history['accuracy']\n",
    "loss = history.history['loss']\n",
    "\n",
    "epochs = range(len(acc))\n",
    "\n",
    "plt.plot(epochs, acc, 'b', label='Training accuracy')\n",
    "plt.title('Training accuracy')\n",
    "\n",
    "plt.figure()\n",
    "\n",
    "plt.plot(epochs, loss, 'b', label='Training Loss')\n",
    "plt.title('Training loss')\n",
    "plt.legend()\n",
    "\n",
    "plt.show()"
   ]
  },
  {
   "cell_type": "code",
   "execution_count": 23,
   "metadata": {
    "colab": {
     "base_uri": "https://localhost:8080/",
     "height": 17
    },
    "executionInfo": {
     "elapsed": 14,
     "status": "ok",
     "timestamp": 1699377756772,
     "user": {
      "displayName": "Azizi Zouhair",
      "userId": "00769205531033281629"
     },
     "user_tz": -60
    },
    "id": "9QRG73l6qE-c",
    "outputId": "711818a1-85e1-4a03-85f9-5c76780e45f8",
    "tags": []
   },
   "outputs": [
    {
     "ename": "ModuleNotFoundError",
     "evalue": "No module named 'google.colab'",
     "output_type": "error",
     "traceback": [
      "\u001b[1;31m---------------------------------------------------------------------------\u001b[0m",
      "\u001b[1;31mModuleNotFoundError\u001b[0m                       Traceback (most recent call last)",
      "Cell \u001b[1;32mIn[23], line 10\u001b[0m\n\u001b[0;32m      6\u001b[0m     pickle\u001b[38;5;241m.\u001b[39mdump(history\u001b[38;5;241m.\u001b[39mhistory, f)\n\u001b[0;32m      8\u001b[0m   files\u001b[38;5;241m.\u001b[39mdownload(\u001b[38;5;124m'\u001b[39m\u001b[38;5;124mhistory.pkl\u001b[39m\u001b[38;5;124m'\u001b[39m)\n\u001b[1;32m---> 10\u001b[0m download_history()\n",
      "Cell \u001b[1;32mIn[23], line 3\u001b[0m, in \u001b[0;36mdownload_history\u001b[1;34m()\u001b[0m\n\u001b[0;32m      1\u001b[0m \u001b[38;5;28;01mdef\u001b[39;00m \u001b[38;5;21mdownload_history\u001b[39m():\n\u001b[0;32m      2\u001b[0m   \u001b[38;5;28;01mimport\u001b[39;00m \u001b[38;5;21;01mpickle\u001b[39;00m\n\u001b[1;32m----> 3\u001b[0m   \u001b[38;5;28;01mfrom\u001b[39;00m \u001b[38;5;21;01mgoogle\u001b[39;00m\u001b[38;5;21;01m.\u001b[39;00m\u001b[38;5;21;01mcolab\u001b[39;00m \u001b[38;5;28;01mimport\u001b[39;00m files\n\u001b[0;32m      5\u001b[0m   \u001b[38;5;28;01mwith\u001b[39;00m \u001b[38;5;28mopen\u001b[39m(\u001b[38;5;124m'\u001b[39m\u001b[38;5;124mhistory.pkl\u001b[39m\u001b[38;5;124m'\u001b[39m, \u001b[38;5;124m'\u001b[39m\u001b[38;5;124mwb\u001b[39m\u001b[38;5;124m'\u001b[39m) \u001b[38;5;28;01mas\u001b[39;00m f:\n\u001b[0;32m      6\u001b[0m     pickle\u001b[38;5;241m.\u001b[39mdump(history\u001b[38;5;241m.\u001b[39mhistory, f)\n",
      "\u001b[1;31mModuleNotFoundError\u001b[0m: No module named 'google.colab'"
     ]
    }
   ],
   "source": [
    "def download_history():\n",
    "  import pickle\n",
    "  from google.colab import files\n",
    "\n",
    "  with open('history.pkl', 'wb') as f:\n",
    "    pickle.dump(history.history, f)\n",
    "\n",
    "  files.download('history.pkl')\n",
    "\n",
    "download_history()"
   ]
  },
  {
   "cell_type": "markdown",
   "metadata": {
    "id": "wdsMszk9zBs_"
   },
   "source": [
    "## See the model in action\n",
    "\n"
   ]
  },
  {
   "cell_type": "code",
   "execution_count": null,
   "metadata": {
    "colab": {
     "base_uri": "https://localhost:8080/"
    },
    "executionInfo": {
     "elapsed": 6407,
     "status": "ok",
     "timestamp": 1699377763168,
     "user": {
      "displayName": "Azizi Zouhair",
      "userId": "00769205531033281629"
     },
     "user_tz": -60
    },
    "id": "6Vc6PHgxa6Hm",
    "outputId": "ba23651d-73a6-454a-a020-49a840b2abd4",
    "tags": []
   },
   "outputs": [],
   "source": [
    "seed_text = \"Help me Obi Wan Kenobi, you're my only hope\"\n",
    "next_words = 100\n",
    "\n",
    "for _ in range(next_words):\n",
    "    # Convert the text into sequences\n",
    "    token_list = tokenizer.texts_to_sequences([seed_text])[0]\n",
    "    # Pad the sequences\n",
    "    token_list = pad_sequences([token_list], maxlen=max_sequence_len, padding='pre')\n",
    "    # Get the probabilities of predicting a word\n",
    "    predicted = model.predict(token_list, verbose=0)\n",
    "    # Choose the next word based on the maximum probability\n",
    "    predicted = np.argmax(predicted, axis=-1).item()\n",
    "    # Get the actual word from the word index\n",
    "    output_word = tokenizer.index_word[predicted]\n",
    "    # Append to the current text\n",
    "    seed_text += \" \" + output_word\n",
    "\n",
    "print(seed_text)"
   ]
  },
  {
   "cell_type": "code",
   "execution_count": null,
   "metadata": {
    "id": "0X_lVh0i1Bk8"
   },
   "outputs": [],
   "source": [
    "from google.colab import drive\n",
    "drive.mount('/content/drive')"
   ]
  }
 ],
 "metadata": {
  "accelerator": "GPU",
  "colab": {
   "provenance": [
    {
     "file_id": "https://github.com/https-deeplearning-ai/tensorflow-1-public/blob/main/C3/W4/assignment/C3W4_Assignment.ipynb",
     "timestamp": 1696693103540
    }
   ]
  },
  "dlai_version": "1.2.0",
  "jupytext": {
   "main_language": "python"
  },
  "kernelspec": {
   "display_name": "Python 3 (ipykernel)",
   "language": "python",
   "name": "python3"
  },
  "language_info": {
   "codemirror_mode": {
    "name": "ipython",
    "version": 3
   },
   "file_extension": ".py",
   "mimetype": "text/x-python",
   "name": "python",
   "nbconvert_exporter": "python",
   "pygments_lexer": "ipython3",
   "version": "3.11.5"
  }
 },
 "nbformat": 4,
 "nbformat_minor": 1
}
